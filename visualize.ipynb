{
 "cells": [
  {
   "cell_type": "code",
   "execution_count": null,
   "metadata": {},
   "outputs": [],
   "source": [
    "import numpy as np\n",
    "from matplotlib import pyplot as plt"
   ]
  },
  {
   "cell_type": "code",
   "execution_count": null,
   "metadata": {},
   "outputs": [],
   "source": [
    "data = np.loadtxt('times.csv', delimiter=',', skiprows=1)\n",
    "\n",
    "elements = data[:,0]\n",
    "seq_time = data[:,1]\n",
    "par_time = data[:,2]\n",
    "\n",
    "fig, ax = plt.subplots(figsize=(8,8))\n",
    "plt.xlabel('# of elements')\n",
    "plt.ylabel('time (ms)')\n",
    "\n",
    "plt.title(\"Sequential vs Parallel MergeSort Sorting Times\")\n",
    "ax.plot(elements, seq_time, label='Sequential')\n",
    "ax.plot(elements, par_time, label='Parallel')\n",
    "plt.legend()"
   ]
  },
  {
   "cell_type": "code",
   "execution_count": null,
   "metadata": {},
   "outputs": [],
   "source": []
  }
 ],
 "metadata": {
  "kernelspec": {
   "display_name": "Python 3",
   "language": "python",
   "name": "python3"
  },
  "language_info": {
   "codemirror_mode": {
    "name": "ipython",
    "version": 3
   },
   "file_extension": ".py",
   "mimetype": "text/x-python",
   "name": "python",
   "nbconvert_exporter": "python",
   "pygments_lexer": "ipython3",
   "version": "3.11.7"
  }
 },
 "nbformat": 4,
 "nbformat_minor": 2
}
